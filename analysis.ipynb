{
 "cells": [
  {
   "cell_type": "code",
   "execution_count": 5,
   "id": "5389096a-b31b-4cdd-bee7-d061f051a736",
   "metadata": {},
   "outputs": [],
   "source": [
    "import pandas as pd\n",
    "import statistics\n",
    "import matplotlib.pyplot as plt"
   ]
  },
  {
   "cell_type": "code",
   "execution_count": 18,
   "id": "1ac4a89a-3c4e-4c5c-aa4c-1376fa86b633",
   "metadata": {},
   "outputs": [],
   "source": [
    "# reading the csv files for general information and prices\n",
    "data_info = pd.read_csv('Data/gpu_info.csv')\n",
    "data_prices = pd.read_csv('Data/gpu_prices.csv')"
   ]
  },
  {
   "cell_type": "code",
   "execution_count": 19,
   "id": "94541219-47e7-41da-b499-99e16ba0d262",
   "metadata": {},
   "outputs": [],
   "source": [
    "manufacturer = data_info['manufacturer'].tolist()\n",
    "product = data_info['productName'].tolist()\n",
    "vram = data_info['memSize'].tolist()\n",
    "memory_bus = data_info['memBusWidth'].tolist()\n",
    "gpu_clock = data_info['gpuClock'].tolist()\n",
    "mem_clock = data_info['memClock'].tolist()"
   ]
  },
  {
   "cell_type": "code",
   "execution_count": 22,
   "id": "220ecf9f-fe48-4701-b11c-a4f665df86e6",
   "metadata": {},
   "outputs": [
    {
     "name": "stdout",
     "output_type": "stream",
     "text": [
      "GPU with the highest VRAM:\n",
      "\n",
      "manufacturer                  NVIDIA\n",
      "productName      GeForce RTX 3090 Ti\n",
      "releaseYear                     2022\n",
      "memSize                         24.0\n",
      "memBusWidth                    384.0\n",
      "gpuClock                        1560\n",
      "memClock                      1313.0\n",
      "unifiedShader                10752.0\n",
      "tmu                              336\n",
      "rop                              112\n",
      "pixelShader                      NaN\n",
      "vertexShader                     NaN\n",
      "igp                               No\n",
      "bus                     PCIe 4.0 x16\n",
      "memType                       GDDR6X\n",
      "gpuChip                        GA102\n",
      "Name: 21, dtype: object\n",
      "\n",
      "GPU the highest Memory Bus:\n",
      "\n",
      "manufacturer               NVIDIA\n",
      "productName      GeForce RTX 3080\n",
      "releaseYear                  2022\n",
      "memSize                      12.0\n",
      "memBusWidth                 384.0\n",
      "gpuClock                     1260\n",
      "memClock                   1188.0\n",
      "unifiedShader              8960.0\n",
      "tmu                           280\n",
      "rop                            96\n",
      "pixelShader                   NaN\n",
      "vertexShader                  NaN\n",
      "igp                            No\n",
      "bus                  PCIe 4.0 x16\n",
      "memType                    GDDR6X\n",
      "gpuChip                     GA102\n",
      "Name: 17, dtype: object\n",
      "\n",
      "GPU the highest GPU Clock:\n",
      "\n",
      "manufacturer                    AMD\n",
      "productName      Radeon RX 6850M XT\n",
      "releaseYear                    2022\n",
      "memSize                        12.0\n",
      "memBusWidth                   192.0\n",
      "gpuClock                       2321\n",
      "memClock                     2000.0\n",
      "unifiedShader                2560.0\n",
      "tmu                             160\n",
      "rop                              64\n",
      "pixelShader                     NaN\n",
      "vertexShader                    NaN\n",
      "igp                              No\n",
      "bus                    PCIe 4.0 x16\n",
      "memType                       GDDR6\n",
      "gpuChip                     Navi 22\n",
      "Name: 42, dtype: object\n",
      "\n",
      "GPU the highest Memory Clock:\n",
      "\n",
      "manufacturer               NVIDIA\n",
      "productName      GeForce GTX 1060\n",
      "releaseYear                  2017\n",
      "memSize                       6.0\n",
      "memBusWidth                 192.0\n",
      "gpuClock                     1506\n",
      "memClock                   2257.0\n",
      "unifiedShader              1280.0\n",
      "tmu                            80\n",
      "rop                            48\n",
      "pixelShader                   NaN\n",
      "vertexShader                  NaN\n",
      "igp                            No\n",
      "bus                  PCIe 3.0 x16\n",
      "memType                     GDDR5\n",
      "gpuChip                     GP106\n",
      "Name: 280, dtype: object\n"
     ]
    }
   ],
   "source": [
    "# Highest vram\n",
    "df = data_info.loc[data_info['memSize'].idxmax()]\n",
    "print('GPU with the highest VRAM:\\n')\n",
    "print(df)\n",
    "\n",
    "# Highest Memory Bus\n",
    "df2 = data_info.loc[data_info['memBusWidth'].idxmax()]\n",
    "print('\\nGPU the highest Memory Bus:\\n')\n",
    "print(df2)\n",
    "\n",
    "# Highest GPU clock\n",
    "df3 = data_info.loc[data_info['gpuClock'].idxmax()]\n",
    "print('\\nGPU the highest GPU Clock:\\n')\n",
    "print(df3)\n",
    "\n",
    "# Highest Memory clock\n",
    "df4 = data_info.loc[data_info['memClock'].idxmax()]\n",
    "print('\\nGPU the highest Memory Clock:\\n')\n",
    "print(df4)"
   ]
  },
  {
   "cell_type": "code",
   "execution_count": null,
   "id": "277262c7-d02f-4b53-b489-a391252aedf7",
   "metadata": {},
   "outputs": [],
   "source": []
  }
 ],
 "metadata": {
  "kernelspec": {
   "display_name": "Python 3 (ipykernel)",
   "language": "python",
   "name": "python3"
  },
  "language_info": {
   "codemirror_mode": {
    "name": "ipython",
    "version": 3
   },
   "file_extension": ".py",
   "mimetype": "text/x-python",
   "name": "python",
   "nbconvert_exporter": "python",
   "pygments_lexer": "ipython3",
   "version": "3.10.9"
  }
 },
 "nbformat": 4,
 "nbformat_minor": 5
}
