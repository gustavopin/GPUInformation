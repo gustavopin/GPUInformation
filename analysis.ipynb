{
 "cells": [
  {
   "cell_type": "code",
   "execution_count": 2,
   "id": "5389096a-b31b-4cdd-bee7-d061f051a736",
   "metadata": {},
   "outputs": [],
   "source": [
    "import pandas as pd\n",
    "import statistics\n",
    "import matplotlib.pyplot as plt"
   ]
  },
  {
   "cell_type": "code",
   "execution_count": 3,
   "id": "1ac4a89a-3c4e-4c5c-aa4c-1376fa86b633",
   "metadata": {},
   "outputs": [],
   "source": [
    "# reading the csv files for general information and prices\n",
    "data_info = pd.read_csv('Data/gpu_info.csv')\n",
    "data_prices = pd.read_csv('Data/gpu_prices.csv')"
   ]
  },
  {
   "cell_type": "code",
   "execution_count": null,
   "id": "94541219-47e7-41da-b499-99e16ba0d262",
   "metadata": {},
   "outputs": [
    {
     "name": "stdout",
     "output_type": "stream",
     "text": [
      "     manufacturer       productName  releaseYear  memSize  memBusWidth  \\\n",
      "0          NVIDIA  GeForce RTX 4050       2023.0    8.000        128.0   \n",
      "1           Intel         Arc A350M       2022.0    4.000         64.0   \n",
      "2           Intel         Arc A370M       2022.0    4.000         64.0   \n",
      "3           Intel          Arc A380       2022.0    4.000         64.0   \n",
      "4           Intel         Arc A550M       2022.0    8.000        128.0   \n",
      "...           ...               ...          ...      ...          ...   \n",
      "2884         3dfx  Voodoo5 5000 AGP          NaN    0.016        128.0   \n",
      "2885         3dfx  Voodoo5 5000 PCI          NaN    0.016        128.0   \n",
      "2886         3dfx      Voodoo5 6000          NaN    0.032        128.0   \n",
      "2887        Intel            Xe DG1          NaN    4.000        128.0   \n",
      "2888        Intel        Xe DG1-SDV          NaN    8.000        128.0   \n",
      "\n",
      "      gpuClock  memClock  unifiedShader  tmu  rop  pixelShader  vertexShader  \\\n",
      "0         1925    2250.0         3840.0  120   48          NaN           NaN   \n",
      "1          300    1500.0          768.0   48   24          NaN           NaN   \n",
      "2          300    1500.0         1024.0   64   32          NaN           NaN   \n",
      "3          300    1500.0         1024.0   64   32          NaN           NaN   \n",
      "4          300    1500.0         2048.0  128   64          NaN           NaN   \n",
      "...        ...       ...            ...  ...  ...          ...           ...   \n",
      "2884       166     166.0            NaN    2    2          2.0           0.0   \n",
      "2885       166     166.0            NaN    2    2          2.0           0.0   \n",
      "2886       166     166.0            NaN    2    2          2.0           0.0   \n",
      "2887       900    2133.0          640.0   40   20          NaN           NaN   \n",
      "2888       900    2133.0          768.0   48   24          NaN           NaN   \n",
      "\n",
      "     igp           bus  memType  gpuChip  \n",
      "0     No  PCIe 4.0 x16    GDDR6    AD106  \n",
      "1     No   PCIe 4.0 x8    GDDR6  DG2-128  \n",
      "2     No   PCIe 4.0 x8    GDDR6  DG2-128  \n",
      "3     No   PCIe 4.0 x8    GDDR6  DG2-128  \n",
      "4     No  PCIe 4.0 x16    GDDR6  DG2-512  \n",
      "...   ..           ...      ...      ...  \n",
      "2884  No        AGP 4x      SDR  VSA-100  \n",
      "2885  No           PCI      SDR  VSA-100  \n",
      "2886  No        AGP 4x      SDR  VSA-100  \n",
      "2887  No   PCIe 4.0 x8  LPDDR4X      DG1  \n",
      "2888  No   PCIe 4.0 x8  LPDDR4X      DG1  \n",
      "\n",
      "[2889 rows x 16 columns]\n",
      "                       gpu manufacturer  Jan eBay Price ($)\n",
      "0      GeForce RTX 2080 Ti       NVIDIA               390.0\n",
      "1   GeForce RTX 2080 Super       NVIDIA               301.0\n",
      "2         GeForce RTX 2080       NVIDIA               261.0\n",
      "3   GeForce RTX 2070 Super       NVIDIA               249.0\n",
      "4         GeForce RTX 2070       NVIDIA               215.0\n",
      "5   GeForce RTX 2060 Super       NVIDIA               213.0\n",
      "6         GeForce RTX 2060       NVIDIA               183.0\n",
      "7      GeForce GTX 1660 Ti       NVIDIA               140.0\n",
      "8   GeForce GTX 1660 Super       NVIDIA               132.0\n",
      "9         GeForce GTX 1660       NVIDIA               116.0\n",
      "10  GeForce GTX 1650 Super       NVIDIA               110.0\n",
      "11        GeForce GTX 1650       NVIDIA               122.0\n",
      "12       Radeon RX 5700 XT          AMD               165.0\n",
      "13          Radeon RX 5700          AMD               169.0\n",
      "14       Radeon RX 5600 XT          AMD               129.0\n",
      "15   Radeon RX 5500 XT 8GB          AMD               105.0\n",
      "16   Radeon RX 5500 XT 4GB          AMD                90.0\n",
      "17        GeForce RTX 4090       NVIDIA              2062.0\n",
      "18        GeForce RTX 4080       NVIDIA              1253.0\n",
      "19     GeForce RTX 4070 Ti       NVIDIA               910.0\n",
      "20     GeForce RTX 3090 Ti       NVIDIA              1097.0\n",
      "21        GeForce RTX 3090       NVIDIA               817.0\n",
      "22     GeForce RTX 3080 Ti       NVIDIA               768.0\n",
      "23   GeForce RTX 3080 12GB       NVIDIA               748.0\n",
      "24        GeForce RTX 3080       NVIDIA               588.0\n",
      "25     GeForce RTX 3070 Ti       NVIDIA               483.0\n",
      "26        GeForce RTX 3070       NVIDIA               397.0\n",
      "27     GeForce RTX 3060 Ti       NVIDIA               331.0\n",
      "28        GeForce RTX 3060       NVIDIA               287.0\n",
      "29        GeForce RTX 3050       NVIDIA               237.0\n",
      "30      Radeon RX 7900 XTX          AMD              1240.0\n",
      "31       Radeon RX 7900 XT          AMD               846.0\n",
      "32       Radeon RX 6950 XT          AMD               733.0\n",
      "33       Radeon RX 6900 XT          AMD               639.0\n",
      "34       Radeon RX 6800 XT          AMD               507.0\n",
      "35          Radeon RX 6800          AMD               431.0\n",
      "36       Radeon RX 6750 XT          AMD               396.0\n",
      "37       Radeon RX 6700 XT          AMD               320.0\n",
      "38     Radeon RX 6700 10GB          AMD               285.0\n",
      "39       Radeon RX 6650 XT          AMD               258.0\n",
      "40       Radeon RX 6600 XT          AMD               215.0\n",
      "41          Radeon RX 6600          AMD               187.0\n",
      "42       Radeon RX 6500 XT          AMD               126.0\n",
      "43          Radeon RX 6400          AMD               144.0\n",
      "44     Intel Arc A770 16GB        Intel               323.0\n",
      "45      Intel Arc A770 8GB        Intel                 NaN\n",
      "46          Intel Arc A750        Intel               253.0\n",
      "47          Intel Arc A380        Intel               100.0\n"
     ]
    }
   ],
   "source": [
    "#testing\n",
    "print(data_info)\n",
    "print(data_prices)"
   ]
  },
  {
   "cell_type": "code",
   "execution_count": null,
   "id": "220ecf9f-fe48-4701-b11c-a4f665df86e6",
   "metadata": {},
   "outputs": [],
   "source": []
  }
 ],
 "metadata": {
  "kernelspec": {
   "display_name": "Python 3 (ipykernel)",
   "language": "python",
   "name": "python3"
  },
  "language_info": {
   "codemirror_mode": {
    "name": "ipython",
    "version": 3
   },
   "file_extension": ".py",
   "mimetype": "text/x-python",
   "name": "python",
   "nbconvert_exporter": "python",
   "pygments_lexer": "ipython3",
   "version": "3.10.9"
  }
 },
 "nbformat": 4,
 "nbformat_minor": 5
}
