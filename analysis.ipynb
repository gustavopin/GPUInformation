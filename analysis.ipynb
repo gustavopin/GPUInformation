{
 "cells": [
  {
   "cell_type": "code",
   "execution_count": 11,
   "id": "5389096a-b31b-4cdd-bee7-d061f051a736",
   "metadata": {},
   "outputs": [],
   "source": [
    "import pandas as pd\n",
    "import statistics\n",
    "import matplotlib.pyplot as plt"
   ]
  },
  {
   "cell_type": "code",
   "execution_count": 12,
   "id": "1ac4a89a-3c4e-4c5c-aa4c-1376fa86b633",
   "metadata": {},
   "outputs": [],
   "source": [
    "# reading the csv files for general information and prices\n",
    "data_info = pd.read_csv('Data/gpu_info.csv')\n",
    "data_prices = pd.read_csv('Data/gpu_prices.csv')"
   ]
  },
  {
   "cell_type": "code",
   "execution_count": 13,
   "id": "94541219-47e7-41da-b499-99e16ba0d262",
   "metadata": {},
   "outputs": [],
   "source": [
    "manufacturer = data_info['manufacturer'].tolist()\n",
    "product = data_info['productName'].tolist()\n",
    "vram = data_info['memSize'].tolist()\n",
    "memory_bus = data_info['memBusWidth'].tolist()\n",
    "gpu_clock = data_info['gpuClock'].tolist()\n",
    "mem_clock = data_info['memClock'].tolist()"
   ]
  },
  {
   "cell_type": "code",
   "execution_count": 15,
   "id": "220ecf9f-fe48-4701-b11c-a4f665df86e6",
   "metadata": {},
   "outputs": [
    {
     "name": "stdout",
     "output_type": "stream",
     "text": [
      "GPU with the highest VRAM:\n",
      "\n",
      "manufacturer           NVIDIA\n",
      "productName         H100 PCIe\n",
      "releaseYear              2022\n",
      "memSize                  80.0\n",
      "memBusWidth            5120.0\n",
      "gpuClock                 1065\n",
      "memClock               1000.0\n",
      "unifiedShader         14592.0\n",
      "tmu                       456\n",
      "rop                        24\n",
      "pixelShader               NaN\n",
      "vertexShader              NaN\n",
      "igp                        No\n",
      "bus              PCIe 5.0 x16\n",
      "memType                 HBM2e\n",
      "gpuChip                 GH100\n",
      "Name: 27, dtype: object\n",
      "\n",
      "GPU the highest Memory Bus:\n",
      "\n",
      "manufacturer           NVIDIA\n",
      "productName        GRID A100A\n",
      "releaseYear              2020\n",
      "memSize                  48.0\n",
      "memBusWidth            6144.0\n",
      "gpuClock                  900\n",
      "memClock               1215.0\n",
      "unifiedShader          6912.0\n",
      "tmu                       432\n",
      "rop                       192\n",
      "pixelShader               NaN\n",
      "vertexShader              NaN\n",
      "igp                        No\n",
      "bus              PCIe 4.0 x16\n",
      "memType                 HBM2e\n",
      "gpuChip                 GA100\n",
      "Name: 129, dtype: object\n"
     ]
    }
   ],
   "source": [
    "df = data_info.loc[data_info['memSize'].idxmax()]\n",
    "print('GPU with the highest VRAM:\\n')\n",
    "print(df)\n",
    "\n",
    "df2 = data_info.loc[data_info['memBusWidth'].idxmax()]\n",
    "print('\\nGPU the highest Memory Bus:\\n')\n",
    "print(df2)"
   ]
  },
  {
   "cell_type": "code",
   "execution_count": null,
   "id": "277262c7-d02f-4b53-b489-a391252aedf7",
   "metadata": {},
   "outputs": [],
   "source": []
  }
 ],
 "metadata": {
  "kernelspec": {
   "display_name": "Python 3 (ipykernel)",
   "language": "python",
   "name": "python3"
  },
  "language_info": {
   "codemirror_mode": {
    "name": "ipython",
    "version": 3
   },
   "file_extension": ".py",
   "mimetype": "text/x-python",
   "name": "python",
   "nbconvert_exporter": "python",
   "pygments_lexer": "ipython3",
   "version": "3.10.9"
  }
 },
 "nbformat": 4,
 "nbformat_minor": 5
}
