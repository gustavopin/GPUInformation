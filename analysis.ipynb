{
 "cells": [
  {
   "cell_type": "code",
   "execution_count": 2,
   "id": "5389096a-b31b-4cdd-bee7-d061f051a736",
   "metadata": {},
   "outputs": [],
   "source": [
    "import pandas as pd\n",
    "import statistics\n",
    "import matplotlib.pyplot as plt"
   ]
  },
  {
   "cell_type": "code",
   "execution_count": 3,
   "id": "1ac4a89a-3c4e-4c5c-aa4c-1376fa86b633",
   "metadata": {},
   "outputs": [],
   "source": [
    "# reading the csv files for general information and prices\n",
    "data_info = pd.read_csv('Data/gpu_info.csv')\n",
    "data_prices = pd.read_csv('Data/gpu_prices.csv')"
   ]
  },
  {
   "cell_type": "code",
   "execution_count": 4,
   "id": "94541219-47e7-41da-b499-99e16ba0d262",
   "metadata": {},
   "outputs": [],
   "source": [
    "manufacturer = data_info['manufacturer'].tolist()\n",
    "product = data_info['productName'].tolist()\n",
    "vram = data_info['memSize'].tolist()\n",
    "memory_bus = data_info['memBusWidth'].tolist()\n",
    "gpu_clock = data_info['gpuClock'].tolist()\n",
    "mem_clock = data_info['memClock'].tolist()"
   ]
  },
  {
   "cell_type": "code",
   "execution_count": null,
   "id": "220ecf9f-fe48-4701-b11c-a4f665df86e6",
   "metadata": {},
   "outputs": [],
   "source": []
  }
 ],
 "metadata": {
  "kernelspec": {
   "display_name": "Python 3 (ipykernel)",
   "language": "python",
   "name": "python3"
  },
  "language_info": {
   "codemirror_mode": {
    "name": "ipython",
    "version": 3
   },
   "file_extension": ".py",
   "mimetype": "text/x-python",
   "name": "python",
   "nbconvert_exporter": "python",
   "pygments_lexer": "ipython3",
   "version": "3.10.9"
  }
 },
 "nbformat": 4,
 "nbformat_minor": 5
}
